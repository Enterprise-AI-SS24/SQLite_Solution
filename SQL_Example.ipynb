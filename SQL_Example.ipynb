{
 "cells": [
  {
   "cell_type": "markdown",
   "metadata": {},
   "source": [
    "# SQLite"
   ]
  },
  {
   "cell_type": "markdown",
   "metadata": {},
   "source": [
    "In this short exercise, we will be working with a SQLite database. The package that allows us to do this is the `sqlite3` package. Overall, we want to create the following two tables, which include library catalog information. \n",
    "<div class=\"grid-container\">\n",
    "    <div class=\"grid-item\">\n",
    "        <div class=\"subtitle\">Author Table</div>\n",
    "        <img src=\"./img/Authors.png\" alt=\"Author Table\">\n",
    "    </div>\n",
    "    <div class=\"grid-item\">\n",
    "            <div class=\"subtitle\">Books Table</div>\n",
    "        <img src=\"./img/books.png\" alt=\"Books Table\">\n",
    "    </div>\n",
    "</div>"
   ]
  },
  {
   "cell_type": "code",
   "execution_count": 18,
   "metadata": {},
   "outputs": [],
   "source": [
    "import sqlite3 "
   ]
  },
  {
   "cell_type": "markdown",
   "metadata": {},
   "source": [
    "The next thing we want to do is to create our database. We can achieve this by running the command `sqlite3.connect(\"name.db\")`. This function returns a connection object and needs to be saved to a variable."
   ]
  },
  {
   "cell_type": "code",
   "execution_count": 19,
   "metadata": {},
   "outputs": [],
   "source": [
    "# Will create or connect to an existing Database\n",
    "connection = sqlite3.connect(\"Enterprise-AI.db\")"
   ]
  },
  {
   "cell_type": "markdown",
   "metadata": {},
   "source": [
    "Additionally, we need to create a database cursor to execute SQL statements."
   ]
  },
  {
   "cell_type": "code",
   "execution_count": 20,
   "metadata": {},
   "outputs": [],
   "source": [
    "# Create a cursor object using the connection object\n",
    "cursor = connection.cursor()"
   ]
  },
  {
   "cell_type": "markdown",
   "metadata": {},
   "source": [
    "For our library example, we need to create two tables. The First Table is the author table. It should include general information about the author, such as the first and last name and an author_id. The second table is the books table, which provides information about all the books stored in the library. It has the following attributes: a Book_ID, a Title, the Date_of_publication, the Genre, and the Author_ID as reference on the Author table.\n",
    "<div class=\"grid-item\">\n",
    "        <div class=\"subtitle\">Author Table</div>\n",
    "        <img src=\"./img/Authors.png\" alt=\"Author Table\">\n",
    "    </div>"
   ]
  },
  {
   "cell_type": "code",
   "execution_count": 21,
   "metadata": {},
   "outputs": [],
   "source": [
    "#Activates Foreign key constraint\n",
    "cursor.execute(\"PRAGMA foreign_keys = ON;\")\n",
    "\n",
    "authors_table_query = \"CREATE TABLE Authors ( Author_ID INT PRIMARY KEY, First_Name TEXT NOT NULL, Last_Name TEXT NOT NULL );\" # selber\n",
    "book_table_query = \"CREATE TABLE Books ( Book_ID INT PRIMARY KEY, Title TEXT NOT NULL, Date_of_Publication TEXT NOT NULL, Genre TEXT NOT NULL, Author_ID INT, FOREIGN KEY (Author_ID) REFERENCES Authors(Author_ID) );\""
   ]
  },
  {
   "cell_type": "markdown",
   "metadata": {},
   "source": [
    "Execute the queries to create the tables."
   ]
  },
  {
   "cell_type": "code",
   "execution_count": 22,
   "metadata": {},
   "outputs": [
    {
     "data": {
      "text/plain": [
       "<sqlite3.Cursor at 0x7f8be5486a40>"
      ]
     },
     "execution_count": 22,
     "metadata": {},
     "output_type": "execute_result"
    }
   ],
   "source": [
    "cursor.execute(book_table_query)\n",
    "cursor.execute(authors_table_query)"
   ]
  },
  {
   "cell_type": "markdown",
   "metadata": {},
   "source": [
    "Now, Let us Insert some data. In SQL, we use therefore the following Syntax: `INSERT INTO TABLE_NAME (Variable_NAME_1,...,Variable_NAEME_N) VALUES (VALUE_1,...,VALUE_N),...,(VALUE_1,...,VALUE_N) ;`"
   ]
  },
  {
   "cell_type": "code",
   "execution_count": 23,
   "metadata": {},
   "outputs": [],
   "source": [
    "Insert_Authors = \"INSERT INTO Authors (Author_ID, First_Name, Last_Name) VALUES (1, 'Joanne', 'Rowling'), (2, 'John Ronald Reuel', 'Tolkien'), (3, 'Barack', 'Obama');\"\n",
    "Insert_Books = \"INSERT INTO Books (Book_ID, Title, Date_of_Publication, Genre, Author_ID) VALUES (1, 'Harry Potter and the Philosopher''s Stone', '1997-06-26', 'Fantasy', 1), (2, 'The Fellowship of the Ring', '1954-07-29', 'Fantasy', 2), (3, 'Harry Potter and the Prisoner of Azkaban', '1999-07-08', 'Fantasy', 1);\""
   ]
  },
  {
   "cell_type": "markdown",
   "metadata": {},
   "source": [
    "Execute the queries to insert your data."
   ]
  },
  {
   "cell_type": "code",
   "execution_count": 24,
   "metadata": {},
   "outputs": [
    {
     "data": {
      "text/plain": [
       "<sqlite3.Cursor at 0x7f8be5486a40>"
      ]
     },
     "execution_count": 24,
     "metadata": {},
     "output_type": "execute_result"
    }
   ],
   "source": [
    "cursor.execute(Insert_Authors)\n",
    "cursor.execute(Insert_Books)"
   ]
  },
  {
   "cell_type": "markdown",
   "metadata": {},
   "source": [
    "After we have run an insert command, we need to run the `connection.commit()` command to save our entry to the database."
   ]
  },
  {
   "cell_type": "code",
   "execution_count": 25,
   "metadata": {},
   "outputs": [],
   "source": [
    "connection.commit()"
   ]
  },
  {
   "cell_type": "markdown",
   "metadata": {},
   "source": [
    "Finally, let us retrieve the data using the Pandas library. Therefore, we first need to import the Pandas Library."
   ]
  },
  {
   "cell_type": "code",
   "execution_count": 26,
   "metadata": {},
   "outputs": [],
   "source": [
    "import pandas as pd"
   ]
  },
  {
   "cell_type": "markdown",
   "metadata": {},
   "source": [
    "Pandas allow us to retrieve data from a SQL database by running the command `pd.read_sql_query(query, connection)`, where we hand over the SQL query and the above-saved Connection Object.\n",
    "\n",
    "To retrieve Data from a SQL Database, we need to use the following query `SELECT * FROM TABLENAME`"
   ]
  },
  {
   "cell_type": "code",
   "execution_count": 27,
   "metadata": {},
   "outputs": [
    {
     "data": {
      "text/html": [
       "<div>\n",
       "<style scoped>\n",
       "    .dataframe tbody tr th:only-of-type {\n",
       "        vertical-align: middle;\n",
       "    }\n",
       "\n",
       "    .dataframe tbody tr th {\n",
       "        vertical-align: top;\n",
       "    }\n",
       "\n",
       "    .dataframe thead th {\n",
       "        text-align: right;\n",
       "    }\n",
       "</style>\n",
       "<table border=\"1\" class=\"dataframe\">\n",
       "  <thead>\n",
       "    <tr style=\"text-align: right;\">\n",
       "      <th></th>\n",
       "      <th>Author_ID</th>\n",
       "      <th>First_Name</th>\n",
       "      <th>Last_Name</th>\n",
       "    </tr>\n",
       "  </thead>\n",
       "  <tbody>\n",
       "    <tr>\n",
       "      <th>0</th>\n",
       "      <td>1</td>\n",
       "      <td>Joanne</td>\n",
       "      <td>Rowling</td>\n",
       "    </tr>\n",
       "    <tr>\n",
       "      <th>1</th>\n",
       "      <td>2</td>\n",
       "      <td>John Ronald Reuel</td>\n",
       "      <td>Tolkien</td>\n",
       "    </tr>\n",
       "    <tr>\n",
       "      <th>2</th>\n",
       "      <td>3</td>\n",
       "      <td>Barack</td>\n",
       "      <td>Obama</td>\n",
       "    </tr>\n",
       "  </tbody>\n",
       "</table>\n",
       "</div>"
      ],
      "text/plain": [
       "   Author_ID         First_Name Last_Name\n",
       "0          1             Joanne   Rowling\n",
       "1          2  John Ronald Reuel   Tolkien\n",
       "2          3             Barack     Obama"
      ]
     },
     "execution_count": 27,
     "metadata": {},
     "output_type": "execute_result"
    }
   ],
   "source": [
    "return_books_query = \"SELECT * FROM Authors\"\n",
    "pd.read_sql_query(return_books_query,connection)"
   ]
  },
  {
   "cell_type": "markdown",
   "metadata": {},
   "source": [
    "Suppose we also want to retrieve the author information, so we need to join both tables. We can achieve this by adapting the query to the following structure: `SELECT * FROM TABLENAME INNER JOIN TABLENAME_2 ON TABLENAME.Author_ID=TABLENAME_2.Author_ID`"
   ]
  },
  {
   "cell_type": "code",
   "execution_count": 28,
   "metadata": {},
   "outputs": [
    {
     "data": {
      "text/html": [
       "<div>\n",
       "<style scoped>\n",
       "    .dataframe tbody tr th:only-of-type {\n",
       "        vertical-align: middle;\n",
       "    }\n",
       "\n",
       "    .dataframe tbody tr th {\n",
       "        vertical-align: top;\n",
       "    }\n",
       "\n",
       "    .dataframe thead th {\n",
       "        text-align: right;\n",
       "    }\n",
       "</style>\n",
       "<table border=\"1\" class=\"dataframe\">\n",
       "  <thead>\n",
       "    <tr style=\"text-align: right;\">\n",
       "      <th></th>\n",
       "      <th>Book_ID</th>\n",
       "      <th>Title</th>\n",
       "      <th>Date_of_Publication</th>\n",
       "      <th>Genre</th>\n",
       "      <th>Author_ID</th>\n",
       "      <th>Author_ID</th>\n",
       "      <th>First_Name</th>\n",
       "      <th>Last_Name</th>\n",
       "    </tr>\n",
       "  </thead>\n",
       "  <tbody>\n",
       "    <tr>\n",
       "      <th>0</th>\n",
       "      <td>1</td>\n",
       "      <td>Harry Potter and the Philosopher's Stone</td>\n",
       "      <td>1997-06-26</td>\n",
       "      <td>Fantasy</td>\n",
       "      <td>1</td>\n",
       "      <td>1</td>\n",
       "      <td>Joanne</td>\n",
       "      <td>Rowling</td>\n",
       "    </tr>\n",
       "    <tr>\n",
       "      <th>1</th>\n",
       "      <td>2</td>\n",
       "      <td>The Fellowship of the Ring</td>\n",
       "      <td>1954-07-29</td>\n",
       "      <td>Fantasy</td>\n",
       "      <td>2</td>\n",
       "      <td>2</td>\n",
       "      <td>John Ronald Reuel</td>\n",
       "      <td>Tolkien</td>\n",
       "    </tr>\n",
       "    <tr>\n",
       "      <th>2</th>\n",
       "      <td>3</td>\n",
       "      <td>Harry Potter and the Prisoner of Azkaban</td>\n",
       "      <td>1999-07-08</td>\n",
       "      <td>Fantasy</td>\n",
       "      <td>1</td>\n",
       "      <td>1</td>\n",
       "      <td>Joanne</td>\n",
       "      <td>Rowling</td>\n",
       "    </tr>\n",
       "  </tbody>\n",
       "</table>\n",
       "</div>"
      ],
      "text/plain": [
       "   Book_ID                                     Title Date_of_Publication  \\\n",
       "0        1  Harry Potter and the Philosopher's Stone          1997-06-26   \n",
       "1        2                The Fellowship of the Ring          1954-07-29   \n",
       "2        3  Harry Potter and the Prisoner of Azkaban          1999-07-08   \n",
       "\n",
       "     Genre  Author_ID  Author_ID         First_Name Last_Name  \n",
       "0  Fantasy          1          1             Joanne   Rowling  \n",
       "1  Fantasy          2          2  John Ronald Reuel   Tolkien  \n",
       "2  Fantasy          1          1             Joanne   Rowling  "
      ]
     },
     "execution_count": 28,
     "metadata": {},
     "output_type": "execute_result"
    }
   ],
   "source": [
    "return_books_query = \"SELECT * FROM Books INNER JOIN Authors ON Authors.Author_ID=Books.Author_ID\"\n",
    "pd.read_sql_query(return_books_query,connection)\n"
   ]
  },
  {
   "cell_type": "markdown",
   "metadata": {},
   "source": [
    "Finally, we need to close the database connection by running the `connection.close()` command."
   ]
  },
  {
   "cell_type": "code",
   "execution_count": null,
   "metadata": {},
   "outputs": [],
   "source": [
    "connection.close()"
   ]
  }
 ],
 "metadata": {
  "kernelspec": {
   "display_name": "Python 3",
   "language": "python",
   "name": "python3"
  },
  "language_info": {
   "codemirror_mode": {
    "name": "ipython",
    "version": 3
   },
   "file_extension": ".py",
   "mimetype": "text/x-python",
   "name": "python",
   "nbconvert_exporter": "python",
   "pygments_lexer": "ipython3",
   "version": "3.11.4"
  }
 },
 "nbformat": 4,
 "nbformat_minor": 2
}
